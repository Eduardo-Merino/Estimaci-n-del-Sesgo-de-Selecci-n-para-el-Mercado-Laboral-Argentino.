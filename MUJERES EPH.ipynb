{
 "cells": [
  {
   "cell_type": "markdown",
   "metadata": {},
   "source": [
    "## Metodología \n",
    "\n",
    "<p style='text-align: justify;'>La metodología empírica que se utilizará para corregir el posible sesgo de selección se basa en el método propuesto por Heckman (1974) empleando los datos de la Encuesta Permanente de Hogares (EPH) correspondientes al tercer trimestre del 2018.</p>\n",
    "\n",
    "<p style='text-align: justify;'>Para la aplicación de esta metodología se procedió primero, a estimar una ecuación de participación, a través del método Probit la cual relaciona la probabilidad de observar el salario de cada individuo a nivel. Segundo, se corrigió la estimación por MCO del sesgo de selección, como propone Heckman, incluyendo en la ecuación de salarios la variable IMR  que cuantifica la probabilidad predicha de observar el salario, la cual es a su vez estimada sobre la base de la ecuación Probit. Obtenidos los coeficientes corregidos podremos realizar la interpretación correcta de los resultados con los cuales rechazaremos o no la hipótesis de la existencia de sesgo de selección, analizaremos los retornos a la educación de los trabajadores argentinos y observaremos si existe una brecha salarial entre hombres y mujeres. Estos tres pasos se realizarán primero sin diferenciación de sexos, luego se tomaran exclusivamente a los hombres y por último a las mujeres.</p>\n",
    "\n",
    "<p style='text-align: justify;'>La estimación empírica del modelo considera dos ecuaciones. La primera, corresponde a la variable de participación la cual es una variable dicotómica del tipo “participa” o “no participa” en términos de ser o no ser observado un ingreso del trabajo. Esta ecuación se interpreta como la forma reducida de un modelo en el cual la decisión de participación depende del salario de reserva y, por lo tanto, de características personales y de capital humano. Esta ecuación se supone lineal en los parámetros y permite estimar la probabilidad predicha de participación de un individuo con ciertas características.</p> \n",
    "\n",
    "<p style='text-align: justify;'>La segunda ecuación corresponde a la estimación del salario como función de variables de capital humano y de la probabilidad de participar en el mercado laboral, que llamamos el inverso de la razon de Mills (IMR). Esta última corresponde a un modelo de determinación de ingresos mediante el modelo de Mincer, corregido por la presencia de sesgo de selección.</p>\n",
    "\n",
    "La siguiente es la especificación de las ecuaciones:\n",
    "\n",
    "(7)  PART= $α_0+ α_1 EDUC+ α_2  EXPER+ α_3  EXPER2+ α_4  JEFEH+ α_5  ECIVIL+ α_6  SPUBLICO+μ $    \n",
    "\n",
    "(8) LP21= $β_0+ β_1 EDUC+ β_2  EXPER+ β_3  EXPER2+ β_4  JEFEH+ β_5  ECIVIL+ β_6  SPUBLICO+ β_7  IMR +τ $             \n",
    "\n",
    "<p style='text-align: justify;'>En la ecuación (7) la variable dependiente PART corresponde a una variable dicotómica que toma el valor 1 cuando la persona obtiene un ingreso positivo y cero en caso contrario;</p>\n",
    "\n",
    "* EDUC son años de estudio formales; al cual le asignaremos 6 años para primario completo, 12 años para secundario completo, 14 para terciario completo y 16 para universitario completo.\n",
    "\n",
    "* EXPER son años de experiencia potencial. La experiencia potencial se mide a través de la aproximación empírica EXPER=Edad-Educ-6. La aplicación de este proxy requiere necesariamente del cumplimiento de dos condiciones, la primera, que el inicio de la vida laboral comienza inmediatamente después de terminada la etapa escolar. La segunda, que la vida laboral debe ser ininterrumpida. Indudablemente, este supuesto es más discutible en el caso de los grupos caracterizados por altas tasas de desempleo.\n",
    "\n",
    "* EXPER2 corresponde a la experiencia al cuadrado, se espera que tenga signo negativo.\n",
    "\n",
    "* JEFEH es una variable dummy que toma el valor 1 si el individuo i es jefe de hogar, y el valor 0 en caso de no serlo.\n",
    "\n",
    "* ECIVIL es una variable dicotómica que representa el estado civil tomando el valor 1 en el caso de que sea casado o conviviente y 0 en los restantes casos.\n",
    "\n",
    "* SPUBLICO es una variable dummy que toma el valor 1 para aquellos que trabajan en el sector público y 0 de otro modo.\n",
    "\n",
    "<p style='text-align: justify;'>En la ecuación (8) LP21 corresponde al logaritmo natural del salario;</p>\n",
    "\n",
    "* IMR es la probabilidad (ajustada) de que el individuo i participe en el mercado del trabajo o en otras palabras el inverso de la razón de Mills.\n",
    "\n",
    "* μ y τ son errores aleatorios que se asumen con media cero y varianza constante.\n",
    "\n",
    "<p style='text-align: justify;'>En el caso de la ecuación (7), se espera que los parámetros asociados a variables que midan cambios en el costo del ocio tengan signo positivo; esto es, un aumento en el valor de dichas variables afectará positivamente la probabilidad de participar en el mercado. Sin embargo, este efecto dependerá del grado de sustitución en el trabajo fuera del mercado entre los miembros de la familia. Es decir, las variables de capital humano deben tener signo positivo, al igual que el parámetro asociado a la variable JEFEH. Por el contrario, los cambios en el ingreso permanente deberían ejercer un efecto negativo sobre la participación.</p>\n",
    "\n",
    "<p style='text-align: justify;'>Con respecto a la ecuación (8), los signos esperados son los típicos de un modelo de capital humano, es decir, los parámetros de educación y experiencia deben tener signo positivo, mientras que la variable experiencia al cuadrado debería tener un efecto negativo y pequeño relativo al parámetro asociado a la variable EXPER.</p>\n"
   ]
  },
  {
   "cell_type": "code",
   "execution_count": 2,
   "metadata": {},
   "outputs": [],
   "source": [
    "# Importamos las librerías \n",
    "\n",
    "import pandas as pd\n",
    "import numpy as np\n",
    "import math as mat\n",
    "import statsmodels as sm\n",
    "import statsmodels.api as sma\n",
    "import statsmodels.formula.api as smf\n",
    "import matplotlib.pyplot as plt\n",
    "from matplotlib import cm\n",
    "import seaborn as sns\n",
    "import scipy.stats as scs\n",
    "\n",
    "# Creamos un DataFrame en Pandas con los datos de la EPH del tercer trimestre del 2018\n",
    "\n",
    "EPH= pd.read_csv('individual_2018.csv',sep=';')"
   ]
  },
  {
   "cell_type": "code",
   "execution_count": 2,
   "metadata": {},
   "outputs": [],
   "source": [
    "#### Mantenemos sólo las variables que podrían ser relevantes para el estudio\n",
    "\n",
    "EPH = EPH.filter(['REGION', 'AGLOMERADO', 'PONDERA','H15', 'ITF', 'IPCF', 'PONDIH','CH03', \n",
    "                'CH04', 'CH06', 'CH07', 'CH11', 'CH12', 'CH13', 'CH14', \n",
    "                'NIVEL_ED', 'ESTADO','CAT_OCUP','CAT_INAC','PP3E_TOT', 'PP3F_TOT', 'PP04A','PP04C', \n",
    "                'PP05B2_MES', 'PP05B2_ANO', 'PP08D1', 'P21', 'PONDIIO', \n",
    "                'Tot_p12', 'p47T', 'PONDII','T_Vi','PP04D_COD'])"
   ]
  },
  {
   "cell_type": "code",
   "execution_count": 3,
   "metadata": {},
   "outputs": [],
   "source": [
    "# Creamos la variable PART. Es una variable dummy que toma el valor 1 cuando la persona obtiene un ingreso positivo y 0 en caso contrario\n",
    "EPH['PART']= 0\n",
    "EPH.loc[(EPH.P21>0), 'PART'] = 1"
   ]
  },
  {
   "cell_type": "code",
   "execution_count": 4,
   "metadata": {},
   "outputs": [],
   "source": [
    "# Creamos la variable EDUC\n",
    "EPH['EDUC'] = 0\n",
    "\n",
    "# Eliminamos los que no corresponden\n",
    "# Educación especial\n",
    "EPH = EPH.drop(EPH[EPH.CH12==9].index)\n",
    "\n",
    "# Ns./Nr. si finalizó el nivel\n",
    "EPH = EPH.drop(EPH[EPH.CH13==9].index)\n",
    "\n",
    "# Educación especial\n",
    "EPH = EPH.drop(EPH[EPH.CH14==98].index)\n",
    "\n",
    "# Ns./Nr. cuál fue el último nivel aprobado\n",
    "EPH = EPH.drop(EPH[EPH.CH14==99].index)\n",
    "\n",
    "# Reemplazamos los NaN's de CH14 por 0's\n",
    "EPH['CH14'].fillna(0, inplace=True)\n",
    "\n",
    "# Quitamos a los menores de 10 años\n",
    "EPH = EPH.drop(EPH[EPH.ESTADO==4].index)\n",
    "\n",
    "# preescolar incompleto y completa\n",
    "EPH.loc[(EPH.CH12==1) & (EPH.CH13==2), 'EDUC'] = 0\n",
    "EPH.loc[(EPH.CH12==1) & (EPH.CH13==1), 'EDUC'] = 0\n",
    "\n",
    "# primaria incompleta y completa\n",
    "EPH.loc[(EPH.CH12==2) & (EPH.CH13==2), 'EDUC'] = EPH['CH14']\n",
    "EPH.loc[(EPH.CH12==2) & (EPH.CH13==1), 'EDUC'] = 6\n",
    "\n",
    "# egb incompleto y completo\n",
    "EPH.loc[(EPH.CH12==3) & (EPH.CH13==2), 'EDUC'] = EPH['CH14']\n",
    "EPH.loc[(EPH.CH12==3) & (EPH.CH13==1), 'EDUC'] = 9\n",
    "\n",
    "# secundario incompleto y completo\n",
    "EPH.loc[(EPH.CH12==4) & (EPH.CH13==2), 'EDUC'] = EPH['CH14'] + 6\n",
    "EPH.loc[(EPH.CH12==4) & (EPH.CH13==1), 'EDUC'] = 12\n",
    "\n",
    "# polimodal incompleto y completo\n",
    "EPH.loc[(EPH.CH12==5) & (EPH.CH13==2), 'EDUC'] = EPH['CH14'] + 9\n",
    "EPH.loc[(EPH.CH12==5) & (EPH.CH13==1), 'EDUC'] = 12\n",
    "\n",
    "# terciario incompleto y completo\n",
    "EPH.loc[(EPH.CH12==6) & (EPH.CH13==2), 'EDUC'] = EPH['CH14'] + 12\n",
    "EPH.loc[(EPH.CH12==6) & (EPH.CH13==1), 'EDUC'] = 14\n",
    "\n",
    "# universitario incompleto y completo\n",
    "EPH.loc[(EPH.CH12==7) & (EPH.CH13==2), 'EDUC'] = EPH['CH14'] + 12\n",
    "EPH.loc[(EPH.CH12==7) & (EPH.CH13==1), 'EDUC'] = 17\n",
    "\n",
    "# posgrado incompleto y completo\n",
    "EPH.loc[(EPH.CH12==8) & (EPH.CH13==2), 'EDUC'] = EPH['CH14'] + 17\n",
    "EPH.loc[(EPH.CH12==8) & (EPH.CH13==1), 'EDUC'] = 20"
   ]
  },
  {
   "cell_type": "code",
   "execution_count": 5,
   "metadata": {},
   "outputs": [],
   "source": [
    "# Creamos la variable EXPER Y EXPER2\n",
    "EPH['EDAD'] = EPH['CH06']\n",
    "EPH['EXPER'] = EPH['EDAD']-EPH['EDUC']-6\n",
    "EPH['EXPER2'] = EPH['EXPER']**2"
   ]
  },
  {
   "cell_type": "code",
   "execution_count": 6,
   "metadata": {},
   "outputs": [],
   "source": [
    "# Creamos la variable JEFEH. Es una variable dummy que toma el valor 1 cuando el individuo es jefe de hogar y 0 si no lo es.\n",
    "EPH['JEFEH']= 0\n",
    "EPH.loc[(EPH.CH03==1), 'JEFEH'] = 1"
   ]
  },
  {
   "cell_type": "code",
   "execution_count": 7,
   "metadata": {},
   "outputs": [],
   "source": [
    "# Creamos la variable ECIVIL. Es una variable dummy que toma el valor 1 si el individuo esta casado o en union y 0 si no lo esta.\n",
    "EPH['ECIVIL']= 0\n",
    "EPH.loc[(EPH.CH07==1), 'ECIVIL'] = 1\n",
    "EPH.loc[(EPH.CH07==2), 'ECIVIL'] = 1"
   ]
  },
  {
   "cell_type": "code",
   "execution_count": 8,
   "metadata": {},
   "outputs": [],
   "source": [
    "# Creamos la variable SPUBLICO. Es una variable dummy que toma el valor 1 si el individuo trabaja en el sector publico y 0 en caso contratrio\n",
    "EPH['SPUBLICO']= 0\n",
    "EPH.loc[(EPH.PP04A==1), 'SPUBLICO'] = 1"
   ]
  },
  {
   "cell_type": "code",
   "execution_count": 9,
   "metadata": {},
   "outputs": [],
   "source": [
    "# Eliminamos los hombres del modelo.\n",
    "EPH = EPH.drop(EPH[EPH.CH04==1].index)"
   ]
  },
  {
   "cell_type": "code",
   "execution_count": 10,
   "metadata": {},
   "outputs": [
    {
     "name": "stdout",
     "output_type": "stream",
     "text": [
      "Optimization terminated successfully.\n",
      "         Current function value: 0.465958\n",
      "         Iterations 7\n"
     ]
    },
    {
     "data": {
      "text/html": [
       "<table class=\"simpletable\">\n",
       "<caption>Probit Regression Results</caption>\n",
       "<tr>\n",
       "  <th>Dep. Variable:</th>    <td>EPH['PART']</td>   <th>  No. Observations:  </th>  <td> 25254</td> \n",
       "</tr>\n",
       "<tr>\n",
       "  <th>Model:</th>              <td>Probit</td>      <th>  Df Residuals:      </th>  <td> 25247</td> \n",
       "</tr>\n",
       "<tr>\n",
       "  <th>Method:</th>               <td>MLE</td>       <th>  Df Model:          </th>  <td>     6</td> \n",
       "</tr>\n",
       "<tr>\n",
       "  <th>Date:</th>          <td>Fri, 05 Jul 2019</td> <th>  Pseudo R-squ.:     </th>  <td>0.2729</td> \n",
       "</tr>\n",
       "<tr>\n",
       "  <th>Time:</th>              <td>14:31:40</td>     <th>  Log-Likelihood:    </th> <td> -11767.</td>\n",
       "</tr>\n",
       "<tr>\n",
       "  <th>converged:</th>           <td>True</td>       <th>  LL-Null:           </th> <td> -16183.</td>\n",
       "</tr>\n",
       "<tr>\n",
       "  <th> </th>                      <td> </td>        <th>  LLR p-value:       </th>  <td> 0.000</td> \n",
       "</tr>\n",
       "</table>\n",
       "<table class=\"simpletable\">\n",
       "<tr>\n",
       "         <td></td>            <th>coef</th>     <th>std err</th>      <th>z</th>      <th>P>|z|</th>  <th>[0.025</th>    <th>0.975]</th>  \n",
       "</tr>\n",
       "<tr>\n",
       "  <th>Intercept</th>       <td>   -1.6648</td> <td>    0.035</td> <td>  -47.927</td> <td> 0.000</td> <td>   -1.733</td> <td>   -1.597</td>\n",
       "</tr>\n",
       "<tr>\n",
       "  <th>EPH['EDUC']</th>     <td>    0.0368</td> <td>    0.003</td> <td>   14.008</td> <td> 0.000</td> <td>    0.032</td> <td>    0.042</td>\n",
       "</tr>\n",
       "<tr>\n",
       "  <th>EPH['EXPER']</th>    <td>    0.0928</td> <td>    0.002</td> <td>   43.092</td> <td> 0.000</td> <td>    0.089</td> <td>    0.097</td>\n",
       "</tr>\n",
       "<tr>\n",
       "  <th>EPH['EXPER2']</th>   <td>   -0.0018</td> <td> 3.84e-05</td> <td>  -45.849</td> <td> 0.000</td> <td>   -0.002</td> <td>   -0.002</td>\n",
       "</tr>\n",
       "<tr>\n",
       "  <th>EPH['JEFEH']</th>    <td>    0.3652</td> <td>    0.024</td> <td>   15.486</td> <td> 0.000</td> <td>    0.319</td> <td>    0.411</td>\n",
       "</tr>\n",
       "<tr>\n",
       "  <th>EPH['ECIVIL']</th>   <td>   -0.0457</td> <td>    0.022</td> <td>   -2.051</td> <td> 0.040</td> <td>   -0.089</td> <td>   -0.002</td>\n",
       "</tr>\n",
       "<tr>\n",
       "  <th>EPH['SPUBLICO']</th> <td>    1.3458</td> <td>    0.034</td> <td>   39.573</td> <td> 0.000</td> <td>    1.279</td> <td>    1.412</td>\n",
       "</tr>\n",
       "</table>"
      ],
      "text/plain": [
       "<class 'statsmodels.iolib.summary.Summary'>\n",
       "\"\"\"\n",
       "                          Probit Regression Results                           \n",
       "==============================================================================\n",
       "Dep. Variable:            EPH['PART']   No. Observations:                25254\n",
       "Model:                         Probit   Df Residuals:                    25247\n",
       "Method:                           MLE   Df Model:                            6\n",
       "Date:                Fri, 05 Jul 2019   Pseudo R-squ.:                  0.2729\n",
       "Time:                        14:31:40   Log-Likelihood:                -11767.\n",
       "converged:                       True   LL-Null:                       -16183.\n",
       "                                        LLR p-value:                     0.000\n",
       "===================================================================================\n",
       "                      coef    std err          z      P>|z|      [0.025      0.975]\n",
       "-----------------------------------------------------------------------------------\n",
       "Intercept          -1.6648      0.035    -47.927      0.000      -1.733      -1.597\n",
       "EPH['EDUC']         0.0368      0.003     14.008      0.000       0.032       0.042\n",
       "EPH['EXPER']        0.0928      0.002     43.092      0.000       0.089       0.097\n",
       "EPH['EXPER2']      -0.0018   3.84e-05    -45.849      0.000      -0.002      -0.002\n",
       "EPH['JEFEH']        0.3652      0.024     15.486      0.000       0.319       0.411\n",
       "EPH['ECIVIL']      -0.0457      0.022     -2.051      0.040      -0.089      -0.002\n",
       "EPH['SPUBLICO']     1.3458      0.034     39.573      0.000       1.279       1.412\n",
       "===================================================================================\n",
       "\"\"\""
      ]
     },
     "execution_count": 10,
     "metadata": {},
     "output_type": "execute_result"
    }
   ],
   "source": [
    "# Realizamos la primera parte del modelo que consiste en estimar una ecuación de participación, la cual relaciona la probabilidad de observar el salario de cada individuo, para poder obtener la inversa del ratio de Mills\n",
    "modelM = smf.probit(\"EPH['PART'] ~ EPH['EDUC']+ EPH['EXPER'] + EPH['EXPER2'] + EPH['JEFEH'] + EPH['ECIVIL'] + EPH['SPUBLICO'] \", data=EPH ).fit()\n",
    "modelM.summary()"
   ]
  },
  {
   "cell_type": "markdown",
   "metadata": {},
   "source": [
    "En relación con los resultados obtenidos para las mujeres en el anterior cuadro, todas las variables son significativas y con el signo esperado. La variable ECIVIL es negativa a diferencia de los hombres que es positiva, esto es, que casarse o vivir en pareja para una mujer disminuye la probabilidad de participar en el mercado laboral, mientras que para los hombres la aumenta. Además, esta es significativa con un nivel de significancia 0.05."
   ]
  },
  {
   "cell_type": "code",
   "execution_count": 11,
   "metadata": {},
   "outputs": [],
   "source": [
    "# Calculamos y creamos la inversa del ratio de Mill a partir de la regresion anterior.\n",
    "Ypred = modelM.predict(EPH[['EDUC']]+ EPH[['EXPER']] + EPH[['EXPER2']] + EPH[['JEFEH']] + EPH[['ECIVIL']] + EPH[['SPUBLICO']])\n",
    "EPH['IMR'] = scs.norm.pdf(Ypred)/scs.norm.cdf(Ypred)"
   ]
  },
  {
   "cell_type": "code",
   "execution_count": 12,
   "metadata": {},
   "outputs": [],
   "source": [
    "# Creamos la variable lP21 y eliminamos los individuos con ingresos iguales o menores a 0\n",
    "EPH = EPH.drop(EPH[EPH.P21<=0].index)\n",
    "EPH['LP21'] = np.log(EPH['P21'])"
   ]
  },
  {
   "cell_type": "code",
   "execution_count": 13,
   "metadata": {},
   "outputs": [
    {
     "data": {
      "text/html": [
       "<table class=\"simpletable\">\n",
       "<caption>OLS Regression Results</caption>\n",
       "<tr>\n",
       "  <th>Dep. Variable:</th>       <td>EPH['LP21']</td>   <th>  R-squared:         </th> <td>   0.298</td> \n",
       "</tr>\n",
       "<tr>\n",
       "  <th>Model:</th>                   <td>OLS</td>       <th>  Adj. R-squared:    </th> <td>   0.297</td> \n",
       "</tr>\n",
       "<tr>\n",
       "  <th>Method:</th>             <td>Least Squares</td>  <th>  F-statistic:       </th> <td>   518.9</td> \n",
       "</tr>\n",
       "<tr>\n",
       "  <th>Date:</th>             <td>Fri, 05 Jul 2019</td> <th>  Prob (F-statistic):</th>  <td>  0.00</td>  \n",
       "</tr>\n",
       "<tr>\n",
       "  <th>Time:</th>                 <td>14:31:40</td>     <th>  Log-Likelihood:    </th> <td> -9600.2</td> \n",
       "</tr>\n",
       "<tr>\n",
       "  <th>No. Observations:</th>      <td>  8578</td>      <th>  AIC:               </th> <td>1.922e+04</td>\n",
       "</tr>\n",
       "<tr>\n",
       "  <th>Df Residuals:</th>          <td>  8570</td>      <th>  BIC:               </th> <td>1.927e+04</td>\n",
       "</tr>\n",
       "<tr>\n",
       "  <th>Df Model:</th>              <td>     7</td>      <th>                     </th>     <td> </td>    \n",
       "</tr>\n",
       "<tr>\n",
       "  <th>Covariance Type:</th>      <td>nonrobust</td>    <th>                     </th>     <td> </td>    \n",
       "</tr>\n",
       "</table>\n",
       "<table class=\"simpletable\">\n",
       "<tr>\n",
       "         <td></td>            <th>coef</th>     <th>std err</th>      <th>t</th>      <th>P>|t|</th>  <th>[0.025</th>    <th>0.975]</th>  \n",
       "</tr>\n",
       "<tr>\n",
       "  <th>Intercept</th>       <td>    7.3492</td> <td>    0.292</td> <td>   25.178</td> <td> 0.000</td> <td>    6.777</td> <td>    7.921</td>\n",
       "</tr>\n",
       "<tr>\n",
       "  <th>EPH['EDUC']</th>     <td>    0.1022</td> <td>    0.003</td> <td>   30.840</td> <td> 0.000</td> <td>    0.096</td> <td>    0.109</td>\n",
       "</tr>\n",
       "<tr>\n",
       "  <th>EPH['EXPER']</th>    <td>    0.0300</td> <td>    0.006</td> <td>    5.214</td> <td> 0.000</td> <td>    0.019</td> <td>    0.041</td>\n",
       "</tr>\n",
       "<tr>\n",
       "  <th>EPH['EXPER2']</th>   <td>   -0.0004</td> <td>    0.000</td> <td>   -3.973</td> <td> 0.000</td> <td>   -0.001</td> <td>   -0.000</td>\n",
       "</tr>\n",
       "<tr>\n",
       "  <th>EPH['ECIVIL']</th>   <td>    0.1165</td> <td>    0.018</td> <td>    6.429</td> <td> 0.000</td> <td>    0.081</td> <td>    0.152</td>\n",
       "</tr>\n",
       "<tr>\n",
       "  <th>EPH['JEFEH']</th>    <td>    0.0756</td> <td>    0.028</td> <td>    2.670</td> <td> 0.008</td> <td>    0.020</td> <td>    0.131</td>\n",
       "</tr>\n",
       "<tr>\n",
       "  <th>EPH['SPUBLICO']</th> <td>    0.4517</td> <td>    0.074</td> <td>    6.069</td> <td> 0.000</td> <td>    0.306</td> <td>    0.598</td>\n",
       "</tr>\n",
       "<tr>\n",
       "  <th>EPH['IMR']</th>      <td>    0.0368</td> <td>    0.368</td> <td>    0.100</td> <td> 0.920</td> <td>   -0.684</td> <td>    0.758</td>\n",
       "</tr>\n",
       "</table>\n",
       "<table class=\"simpletable\">\n",
       "<tr>\n",
       "  <th>Omnibus:</th>       <td>899.644</td> <th>  Durbin-Watson:     </th> <td>   1.827</td>\n",
       "</tr>\n",
       "<tr>\n",
       "  <th>Prob(Omnibus):</th> <td> 0.000</td>  <th>  Jarque-Bera (JB):  </th> <td>1534.193</td>\n",
       "</tr>\n",
       "<tr>\n",
       "  <th>Skew:</th>          <td>-0.734</td>  <th>  Prob(JB):          </th> <td>    0.00</td>\n",
       "</tr>\n",
       "<tr>\n",
       "  <th>Kurtosis:</th>      <td> 4.462</td>  <th>  Cond. No.          </th> <td>6.01e+04</td>\n",
       "</tr>\n",
       "</table><br/><br/>Warnings:<br/>[1] Standard Errors assume that the covariance matrix of the errors is correctly specified.<br/>[2] The condition number is large, 6.01e+04. This might indicate that there are<br/>strong multicollinearity or other numerical problems."
      ],
      "text/plain": [
       "<class 'statsmodels.iolib.summary.Summary'>\n",
       "\"\"\"\n",
       "                            OLS Regression Results                            \n",
       "==============================================================================\n",
       "Dep. Variable:            EPH['LP21']   R-squared:                       0.298\n",
       "Model:                            OLS   Adj. R-squared:                  0.297\n",
       "Method:                 Least Squares   F-statistic:                     518.9\n",
       "Date:                Fri, 05 Jul 2019   Prob (F-statistic):               0.00\n",
       "Time:                        14:31:40   Log-Likelihood:                -9600.2\n",
       "No. Observations:                8578   AIC:                         1.922e+04\n",
       "Df Residuals:                    8570   BIC:                         1.927e+04\n",
       "Df Model:                           7                                         \n",
       "Covariance Type:            nonrobust                                         \n",
       "===================================================================================\n",
       "                      coef    std err          t      P>|t|      [0.025      0.975]\n",
       "-----------------------------------------------------------------------------------\n",
       "Intercept           7.3492      0.292     25.178      0.000       6.777       7.921\n",
       "EPH['EDUC']         0.1022      0.003     30.840      0.000       0.096       0.109\n",
       "EPH['EXPER']        0.0300      0.006      5.214      0.000       0.019       0.041\n",
       "EPH['EXPER2']      -0.0004      0.000     -3.973      0.000      -0.001      -0.000\n",
       "EPH['ECIVIL']       0.1165      0.018      6.429      0.000       0.081       0.152\n",
       "EPH['JEFEH']        0.0756      0.028      2.670      0.008       0.020       0.131\n",
       "EPH['SPUBLICO']     0.4517      0.074      6.069      0.000       0.306       0.598\n",
       "EPH['IMR']          0.0368      0.368      0.100      0.920      -0.684       0.758\n",
       "==============================================================================\n",
       "Omnibus:                      899.644   Durbin-Watson:                   1.827\n",
       "Prob(Omnibus):                  0.000   Jarque-Bera (JB):             1534.193\n",
       "Skew:                          -0.734   Prob(JB):                         0.00\n",
       "Kurtosis:                       4.462   Cond. No.                     6.01e+04\n",
       "==============================================================================\n",
       "\n",
       "Warnings:\n",
       "[1] Standard Errors assume that the covariance matrix of the errors is correctly specified.\n",
       "[2] The condition number is large, 6.01e+04. This might indicate that there are\n",
       "strong multicollinearity or other numerical problems.\n",
       "\"\"\""
      ]
     },
     "execution_count": 13,
     "metadata": {},
     "output_type": "execute_result"
    }
   ],
   "source": [
    "# Realizamos la segunda parte del modelo que consiste en corrigir el sesgo de selección en la estimación por MCO, usando el IMR \n",
    "modelM1 = smf.ols(\"EPH['LP21'] ~ EPH['EDUC']+ EPH['EXPER'] + EPH['EXPER2'] + EPH['ECIVIL'] + EPH['JEFEH'] + EPH['SPUBLICO'] + EPH['IMR']\", data=EPH\n",
    ").fit()\n",
    "modelM1.summary()"
   ]
  },
  {
   "cell_type": "markdown",
   "metadata": {},
   "source": [
    "En este ultimo cuadro, se encuentran varios resultados interesantes para el análisis, que se diferencian de los obtenidos respecto de los hombres. En primer lugar, los retornos de la educación para las mujeres son de 10%, es decir, invertir un año más de estudios para una mujer aumenta su salario un 10% más, mientras que para un hombre solo lo aumenta un 7%.  En segundo lugar, EXPER y EXPER2 son variables significativas a diferencia de lo observado en la notebook de hombres y poseen los signos esperados. En tercer lugar, SPUBLICO posee significación estadística y un signo contrario al coeficiente de este obtenido para los varones. Para finalizar, la razón inversa de Mills (IMR) no es significativa por lo que no existe un sesgo de selección en las mujeres. Por lo tanto, incorporar esta variable a la regresión no modifica en nada a los coeficientes obtenidos."
   ]
  },
  {
   "cell_type": "markdown",
   "metadata": {},
   "source": [
    "## Resultados\n",
    "\n",
    "Los resultados de la ecuación de Mincer obtenidos en las 3 notebooks muestran que en promedio para los hombres los retornos a la educación son del 7% y para las mujeres un 10%. Sin embargo, si no hay una diferenciación en el sexo la rentabilidad promedio de la educación es del 7.20%.\n",
    "Respecto del sesgo de selección encontramos una fuerte presencia para el mercado laboral masculino, cuya corrección mediante la inversa de la razón de Mills provoca una gran disminución en los coeficientes obtenidos de la ecuación de Mincer, a tal punto que la experiencia deja de ser significativa en la misma.  Esto es debido a que hay una gran concentración de hombres que trabajan en el sector informal con salarios mayormente menores a los que si lo hacen en el sector formal o que poseen salarios de reserva mayores al salario que obtendrían empleándose. Por lo tanto, encontramos que esto un problema de la estructura del mercado laboral masculino argentino.\n",
    "\n",
    "En relación con las mujeres no hay presencia de sesgo de selección, esto podría ser resultado de que la mayoría de las mujeres empleadas lo hacen el sector formal y, por lo tanto, tendrían las mismas características que aquellas que no observadas que son la minoría de este. Para finalizar, una vez mas si no realizamos una diferenciación en el sexo de los trabajadores, también observaremos la existencia del sesgo de selección, pero es debido a la fuerte presencia de este en el mercado laboral masculino como pudimos examinar anteriormente."
   ]
  }
 ],
 "metadata": {
  "kernelspec": {
   "display_name": "Python 3",
   "language": "python",
   "name": "python3"
  },
  "language_info": {
   "codemirror_mode": {
    "name": "ipython",
    "version": 3
   },
   "file_extension": ".py",
   "mimetype": "text/x-python",
   "name": "python",
   "nbconvert_exporter": "python",
   "pygments_lexer": "ipython3",
   "version": "3.7.1"
  }
 },
 "nbformat": 4,
 "nbformat_minor": 4
}
